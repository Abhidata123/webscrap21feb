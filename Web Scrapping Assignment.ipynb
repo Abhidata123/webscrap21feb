{
 "cells": [
  {
   "cell_type": "markdown",
   "id": "9f64f99b-d7d6-48ab-b9be-a664655f1f2f",
   "metadata": {},
   "source": [
    "Q1. What is Web Scraping? Why is it Used? Give three areas where Web Scraping is used to get data."
   ]
  },
  {
   "cell_type": "markdown",
   "id": "2d13e94c-678f-419b-bddb-a0ad28bd9913",
   "metadata": {},
   "source": [
    "Ans: Web scraping is the process of collecting structured web data in an automated manner. It's also widely known as web data extraction or web data scraping. Some of the main use cases of web scraping include price monitoring, price intelligence, news monitoring, lead generation, and market research among many others."
   ]
  },
  {
   "cell_type": "markdown",
   "id": "07d4a8a6-c7e7-43ab-8839-4266510d3ba1",
   "metadata": {},
   "source": [
    "Q2. What are the different methods used for Web Scraping?"
   ]
  },
  {
   "cell_type": "markdown",
   "id": "28ee87fb-cb8d-4fdb-bc83-c167827fcafe",
   "metadata": {},
   "source": [
    "Ans: Human copy-and-paste. The simplest form of web scraping is manually copying and pasting data from a web page into a text file or spreadsheet. ...\n",
    "Text pattern matching. ...\n",
    "HTTP programming. ...\n",
    "HTML parsing. ...\n",
    "DOM parsing. ...\n",
    "Vertical aggregation. ...\n",
    "Semantic annotation recognizing. ...\n",
    "Computer vision web-page analysis."
   ]
  },
  {
   "cell_type": "markdown",
   "id": "68a99f69-5f70-42f0-92c6-e7f78e56ea85",
   "metadata": {},
   "source": [
    "Q3. What is Beautiful Soup? Why is it used?"
   ]
  },
  {
   "cell_type": "markdown",
   "id": "6531f1df-0ee4-4978-a9fe-8cc14881e184",
   "metadata": {},
   "source": [
    "Ans: Beautiful Soup is a Python package for parsing HTML and XML documents (including having malformed markup, i.e. non-closed tags, so named after tag soup). It creates a parse tree for parsed pages that can be used to extract data from HTML, which is useful for web scraping."
   ]
  },
  {
   "cell_type": "markdown",
   "id": "677ce52d-97ee-4077-b21c-5a611756f1b8",
   "metadata": {},
   "source": [
    "Q4. Why is flask used in this Web Scraping project?"
   ]
  },
  {
   "cell_type": "markdown",
   "id": "3b3dab21-2840-4fde-8597-23641ba3c54c",
   "metadata": {},
   "source": [
    "Ans: Flask is a lightweight framework to build websites. We'll use this to parse our collected data and display it as HTML in a new HTML file. The requests module allows us to send http requests to the website we want to scrape. The first line imports the Flask class and the render_template method from the flask library."
   ]
  },
  {
   "cell_type": "markdown",
   "id": "4c361d97-d03d-4558-898a-18ea892f992c",
   "metadata": {},
   "source": [
    "Q5. Write the names of AWS services used in this project. Also, explain the use of each service."
   ]
  },
  {
   "cell_type": "markdown",
   "id": "fac8d688-c875-49db-bdfc-eccb61713dae",
   "metadata": {},
   "source": [
    "Two AWS Services used in this project are:\n",
    "Elastic Beanstalk\n",
    "Code Pipeline\n",
    "1. Elastic Beanstalk\n",
    "Elastic Beanstalk is a fully managed service provided by Amazon Web Services (AWS) that allows developers to easily deploy, manage, and scale web applications and services written in popular programming languages like Java, Python, Node.js, PHP, Ruby, Go, and .NET. With Elastic Beanstalk, developers can focus on writing code without worrying about the underlying infrastructure, as the service handles provisioning and configuration of the resources needed to run the application.\n",
    "\n",
    "Here are some key features of Elastic Beanstalk:\n",
    "\n",
    "Platform as a Service (PaaS): Elastic Beanstalk abstracts away the underlying infrastructure and provides a simple interface for developers to deploy their applications. Developers simply upload their application code, and Elastic Beanstalk handles the rest, including provisioning the necessary resources (such as compute instances, load balancers, and databases) and configuring the environment.\n",
    "\n",
    "Multi-language Support: Elastic Beanstalk supports a wide range of programming languages, frameworks, and platforms, including Java, Python, Node.js, PHP, Ruby, Go, and .NET. It also supports popular web servers like Apache, Nginx, and IIS.\n",
    "\n",
    "Easy Deployment: Developers can deploy their applications to Elastic Beanstalk using a variety of methods, including the Elastic Beanstalk console, the AWS CLI, or APIs. Elastic Beanstalk supports versioning of deployments, so developers can roll back to a previous version if needed.\n",
    "\n",
    "Auto Scaling: Elastic Beanstalk automatically scales the application up or down based on demand, ensuring that the application is always available and responsive to users. It can also automatically balance traffic across multiple instances of the application to optimize performance.\n",
    "\n",
    "Monitoring and Logging: Elastic Beanstalk provides monitoring and logging capabilities that allow developers to monitor the health and performance of their application, and troubleshoot issues if they arise. It also integrates with other AWS services like CloudWatch and Elastic Load Balancing to provide a complete solution for monitoring and managing applications.\n",
    "\n",
    "Overall, Elastic Beanstalk is a powerful and flexible service that can help developers quickly and easily deploy and manage web applications and services on AWS.\n",
    "\n",
    "2. Code Pipeline\n",
    "AWS CodePipeline is a fully managed continuous delivery service provided by Amazon Web Services (AWS). It automates the release process for applications, enabling developers to rapidly and reliably build, test, and deploy their code changes.\n",
    "\n",
    "Here are some key features of AWS CodePipeline:\n",
    "\n",
    "Pipeline Creation: Developers can create custom pipelines for their applications, specifying the source code repository, build tools, testing frameworks, deployment targets, and other settings. They can also define the stages of the pipeline and the actions that should be performed in each stage.\n",
    "\n",
    "Source Code Integration: CodePipeline integrates with a wide range of source code repositories, including AWS CodeCommit, GitHub, and Bitbucket. Developers can configure their pipelines to automatically detect code changes in the repository and trigger the build and deployment process.\n",
    "\n",
    "Build and Test Automation: CodePipeline supports a variety of build and test tools, including AWS CodeBuild, Jenkins, and Bamboo. Developers can configure their pipelines to run automated tests as part of the build process, ensuring that code changes meet quality standards before being deployed.\n",
    "\n",
    "Deployment Automation: CodePipeline can deploy applications to a wide range of targets, including Amazon EC2 instances, AWS Elastic Beanstalk environments, and AWS Lambda functions. It can also integrate with other AWS services like AWS CodeDeploy and AWS CloudFormation to support more complex deployment scenarios.\n",
    "\n",
    "Continuous Monitoring: CodePipeline provides continuous monitoring of the pipeline and its stages, giving developers visibility into the progress of each stage and the status of each action. It also integrates with AWS CloudWatch to provide monitoring and alerting capabilities for the pipeline and the application.\n",
    "\n",
    "Overall, AWS CodePipeline is a powerful tool for automating the release process for applications, enabling developers to deploy changes quickly and reliably while maintaining high quality standards. By eliminating the need for manual intervention and automating many of the tedious and error-prone tasks involved in software deployment, CodePipeline can help teams deliver software faster and with fewer errors."
   ]
  },
  {
   "cell_type": "code",
   "execution_count": null,
   "id": "cc48f3b3-03c7-4791-a3fb-9d29336b0d95",
   "metadata": {},
   "outputs": [],
   "source": []
  }
 ],
 "metadata": {
  "kernelspec": {
   "display_name": "Python 3 (ipykernel)",
   "language": "python",
   "name": "python3"
  },
  "language_info": {
   "codemirror_mode": {
    "name": "ipython",
    "version": 3
   },
   "file_extension": ".py",
   "mimetype": "text/x-python",
   "name": "python",
   "nbconvert_exporter": "python",
   "pygments_lexer": "ipython3",
   "version": "3.10.8"
  }
 },
 "nbformat": 4,
 "nbformat_minor": 5
}
